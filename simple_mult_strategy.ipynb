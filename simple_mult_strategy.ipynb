{
 "cells": [
  {
   "cell_type": "code",
   "execution_count": null,
   "metadata": {},
   "outputs": [],
   "source": [
    "# Import necessary libraries\n",
    "import numpy as np\n",
    "import pandas as pd\n",
    "import yfinance as yf\n",
    "from ibapi.client import EClient\n",
    "from ibapi.wrapper import EWrapper\n",
    "from ibapi.contract import Contract\n",
    "from ibapi.order import Order\n",
    "\n",
    "import datetime\n",
    "import time\n",
    "import threading"
   ]
  },
  {
   "cell_type": "code",
   "execution_count": null,
   "metadata": {},
   "outputs": [],
   "source": [
    "init_event = threading.Event() # init event\n",
    "id_event = threading.Event()\n",
    "hist_event = threading.Event()\n",
    "order_event = threading.Event()\n",
    "evec_event = threading.Event()\n",
    "port_event = threading.Event()\n",
    "value_event = threading.Event()"
   ]
  },
  {
   "cell_type": "code",
   "execution_count": null,
   "metadata": {},
   "outputs": [],
   "source": [
    "# define the App class\n",
    "class App(EClient, EWrapper):\n",
    "    def __init__(self, address, port, cid):\n",
    "        EClient.__init__(self, self)\n",
    "        # # list to store data\n",
    "        self.bar_dict = {}\n",
    "        # create a connection with IBKR\n",
    "        self.connect(address, port, cid)\n",
    "        # start client\n",
    "        thread = threading.Thread(target=self.run)\n",
    "        thread.start()\n",
    "        init_event.set()\n",
    "\n",
    "\n",
    "    def nextValidId(self, orderId: int):\n",
    "        # provide a new order id for each of my requests\n",
    "        super().nextValidId(orderId)\n",
    "        logging.debug(\"setting nextValidOrderId: %d\", orderId)\n",
    "        self.nextValidOrderId = orderId\n",
    "        print(\"NextValidId:\", orderId)\n",
    "        id_event.set()\n",
    "\n",
    "    def historicalData(self, reqId, bar):\n",
    "        if reqId not in self.bar_dict.keys():\n",
    "            self.bar_dict[reqId] = []\n",
    "        self.bar_dict[reqId].append(vars(bar))\n",
    "        \n",
    "    def historicalDataEnd(self, reqId, start, end):\n",
    "        print(f\"end of historicalData\")\n",
    "        hist_event.set()\n",
    "\n",
    "\n",
    "    # implement code to monitor trade status and receive confirmation of the trade\n",
    "    def openOrder(self, orderId: OrderId, contract: Contract, order: Order, orderstate: OrderState):\n",
    "        # openorder callback\n",
    "        print(f\"openOrder. orderId:{orderId}, contract:{contract}, order:{order}\")\n",
    "        order_event.set()\n",
    "\n",
    "    def orderStatus(self, orderId: OrderId, status: str, filled: float, reamining: float, avgFillPrice: float,\n",
    "                    permId: int, parenId: int, lastFillPrice: float, clientId: int, whyHeld:str, mktCapPrice: float):\n",
    "                    # orderstatus callback\n",
    "        print(f\"orderStatus. orderId: {orderId}, status: {status}, filled: {filled}, remaining:{reamining}, avgFillPrice: {avgFillPrice}, permId:{permId}, parentId:{parenId}, lastFillPrice: {lastFillPrice}, clientId: {clientId}, whyHeld: {whyHeld}, mktCapPrice:{mktCapPrice}\")\n",
    "\n",
    "    def execDetails(self, reqId: int, contract: Contract, execution: Execution):\n",
    "        print(f\"execDetails. reqId: {reqId}, contract: {contract}, execution: {execution}\")\n",
    "        evec_event.set()\n",
    "    # basically a summary\n",
    "\n",
    "    def commissionReport(self, commissionReport: CommissionReport):\n",
    "        super().commissionReport(commissionReport)\n",
    "        print(\"CommissionReport.\", commissionReport)\n",
    "        \n",
    "    # called when query portfolio information\n",
    "    def updatePortfolio(self, contract, position, marketPrice, marketValue, averageCost, unrealizedPNL, realizedPNL, accountName):\n",
    "        self.last_portfolio = pd.DataFrame(columns=[\"ticker\",\"quantity\",\"marketPrice\",\"marketValue\",\"averageCost\",\"unrealizedPNL\",\"realizedPNL\"])\n",
    "        self.last_portfolio = self.last_portfolio.append({\"ticker\":contract.symbol,\"quantity\":position,\"marketPrice\":marketPrice,\"marketValue\":marketValue,\"averageCost\":averageCost,\"unrealizedPNL\":unrealizedPNL,\"realizedPNL\":realizedPNL}, ignore_index=True)\n",
    "        port_event.set()\n",
    "\n",
    "    # query total value\n",
    "    def updateAccountSummary(self, reqId: int, account: str, tag: str, value: str, currency: str):\n",
    "        if tag == 'NetLiquidation':\n",
    "            self.total_value = float(value)\n",
    "            print(\"Total value of the account: \", self.total_value)\n",
    "        value_event.set()\n",
    "\n",
    "    def reqIds(self):\n",
    "        super().reqIds(-1)\n",
    "        id_event.wait()\n",
    "        id_event.clear()"
   ]
  },
  {
   "cell_type": "code",
   "execution_count": null,
   "metadata": {},
   "outputs": [],
   "source": [
    "# Connect to the TWS API\n",
    "client = EClient(EWrapper())\n",
    "client.connect(\"127.0.0.1\", 7497, 0)\n",
    "\n",
    "# Get the S&P 500 index information\n",
    "sp500 = yf.Ticker(\"^GSPC\")\n",
    "\n",
    "# Retrieve the components of the index\n",
    "sp500_components = sp500.info['components']\n",
    "\n",
    "# Extract the ticker symbols of the components\n",
    "sp500_tickers = [component['symbol'] for component in sp500_components]\n",
    "\n",
    "# Pull in historical data for the S&P 500 components using yfinance\n",
    "data = yf.download(sp500_tickers, start=\"2010-01-01\", end=\"2022-12-31\")\n",
    "\n",
    "#TODO: note we might also need to get data from tws.\n"
   ]
  },
  {
   "attachments": {},
   "cell_type": "markdown",
   "metadata": {},
   "source": [
    "# main part\n",
    "# strategy implementation\n",
    "* decide what to buy & sell, as well as the quantity"
   ]
  },
  {
   "attachments": {},
   "cell_type": "markdown",
   "metadata": {},
   "source": [
    "下面这个cell不重要, 需要改写"
   ]
  },
  {
   "cell_type": "code",
   "execution_count": null,
   "metadata": {},
   "outputs": [],
   "source": [
    "#TODO: rewrite this\n",
    "# Calculate the UMD, BAB, and QMJ factors\n",
    "data[\"UMD\"] = data[\"Close\"] / data[\"Close\"].rolling(252).mean()\n",
    "data[\"BAB\"] = data[\"Volume\"] / data[\"Volume\"].rolling(252).mean()\n",
    "data[\"QMJ\"] = data[\"Close\"].rolling(252).std()\n",
    "\n",
    "# Calculate the Momentum factor\n",
    "data[\"Momentum\"] = data[\"Close\"].pct_change(252)\n",
    "\n",
    "# Create a trading algorithm that uses the momentum factor to generate buy and sell signals\n",
    "# Buy a component when Momentum > 0.05\n",
    "# Sell a component when Momentum < -0.05"
   ]
  },
  {
   "attachments": {},
   "cell_type": "markdown",
   "metadata": {},
   "source": [
    "# query the current portfolio\n"
   ]
  },
  {
   "cell_type": "code",
   "execution_count": null,
   "metadata": {},
   "outputs": [],
   "source": [
    "app.reqAccountUpdates(True, \"DU222526\") #TODO: replace the DU222526 with our account ID\n",
    "port_event.wait()\n",
    "port_event.clear()\n",
    "\n",
    "app.reqAccountSummary(1, \"All\", \"NetLiquidation\")\n",
    "value_event.wait()\n",
    "value_event.clear()\n",
    "\n",
    "last_portfolio = app.last_portfolio\n",
    "total_value = app.total_value"
   ]
  },
  {
   "attachments": {},
   "cell_type": "markdown",
   "metadata": {},
   "source": [
    "# decide the target portfolio\n",
    "* assume we know the weight of the target_portfolio\n",
    "* total_value - 1000 to save 1000 dollars in case something goes wrong"
   ]
  },
  {
   "cell_type": "code",
   "execution_count": null,
   "metadata": {},
   "outputs": [],
   "source": [
    "#TODO: we need to get the weight, mkt_price, ticker from main part of this notebook\n",
    "target_portfolio['quantity'] = np.floor(target_portfolio['weight'] * (total_value - 1000) / target_portfolio['mkt_price'])"
   ]
  },
  {
   "attachments": {},
   "cell_type": "markdown",
   "metadata": {},
   "source": [
    "# place order\n",
    "\n",
    "* target_portfolio\n",
    "> target_portfolio python pandas dataframe containing information of stocks portfolio(target portfolio) that I want to form through trading. The first column of the dataframe is stocks' tickers and the second column of the dataframe is the quantity of each stock that I want to hold. \n",
    "\n",
    "* last_portfolio\n",
    "> last_portfolio is a dataframe containing information of last portfolio that I hold"
   ]
  },
  {
   "cell_type": "code",
   "execution_count": null,
   "metadata": {},
   "outputs": [],
   "source": [
    "# Create a list to store the stocks that need to be sold\n",
    "stocks_to_sell = []\n",
    "\n",
    "# Iterate through the target_portfolio dataframe\n",
    "for index, row in target_portfolio.iterrows():\n",
    "    # Check if the stock is present in the last_portfolio dataframe\n",
    "    last_portfolio_stock = last_portfolio[last_portfolio['ticker'] == row['ticker']]\n",
    "    if not last_portfolio_stock.empty:\n",
    "        # Compare the quantities\n",
    "        last_portfolio_quantity = last_portfolio_stock['quantity'].values[0]\n",
    "        if row['quantity'] < last_portfolio_quantity:\n",
    "            # Calculate the difference in quantity\n",
    "            quantity_diff = last_portfolio_quantity - row['quantity'] \n",
    "            # Add the stock to the list of stocks to sell\n",
    "            stocks_to_sell.append((row['ticker'], quantity_diff))\n",
    "\n",
    "for stock in stocks_to_sell:\n",
    "    # Replace the place holder values with the appropriate values\n",
    "    ticker = stock[0]\n",
    "    quantity = stock[1]\n",
    "    contract = Contract()\n",
    "    contract.symbol = ticker\n",
    "    contract.secType = \"STK\"\n",
    "    contract.exchange = \"SMART\"\n",
    "    contract.currency = \"USD\"\n",
    "    order = Order()\n",
    "    order.action = \"SELL\"\n",
    "    order.orderType = \"MKT\"\n",
    "    order.totalQuantity = quantity\n",
    "    order.tif = \"GTC\" # default is day order\n",
    "\n",
    "    app.reqIds() # require a new id\n",
    "    orderid = app.nextValidOrderId\n",
    "    app.placeOrder(orderid, contract, order)\n"
   ]
  },
  {
   "cell_type": "code",
   "execution_count": null,
   "metadata": {},
   "outputs": [],
   "source": []
  }
 ],
 "metadata": {
  "language_info": {
   "name": "python"
  },
  "orig_nbformat": 4
 },
 "nbformat": 4,
 "nbformat_minor": 2
}
