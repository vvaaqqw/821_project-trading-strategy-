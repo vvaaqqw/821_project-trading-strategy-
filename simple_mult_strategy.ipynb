{
 "cells": [
  {
   "cell_type": "code",
   "execution_count": 1,
   "metadata": {},
   "outputs": [
    {
     "ename": "ModuleNotFoundError",
     "evalue": "No module named 'ibapi'",
     "output_type": "error",
     "traceback": [
      "\u001b[0;31m---------------------------------------------------------------------------\u001b[0m",
      "\u001b[0;31mModuleNotFoundError\u001b[0m                       Traceback (most recent call last)",
      "\u001b[0;32m/tmp/ipykernel_27924/136419389.py\u001b[0m in \u001b[0;36m<module>\u001b[0;34m\u001b[0m\n\u001b[1;32m      3\u001b[0m \u001b[0;32mimport\u001b[0m \u001b[0mpandas\u001b[0m \u001b[0;32mas\u001b[0m \u001b[0mpd\u001b[0m\u001b[0;34m\u001b[0m\u001b[0;34m\u001b[0m\u001b[0m\n\u001b[1;32m      4\u001b[0m \u001b[0;32mimport\u001b[0m \u001b[0myfinance\u001b[0m \u001b[0;32mas\u001b[0m \u001b[0myf\u001b[0m\u001b[0;34m\u001b[0m\u001b[0;34m\u001b[0m\u001b[0m\n\u001b[0;32m----> 5\u001b[0;31m \u001b[0;32mfrom\u001b[0m \u001b[0mibapi\u001b[0m\u001b[0;34m.\u001b[0m\u001b[0mclient\u001b[0m \u001b[0;32mimport\u001b[0m \u001b[0mEClient\u001b[0m\u001b[0;34m\u001b[0m\u001b[0;34m\u001b[0m\u001b[0m\n\u001b[0m\u001b[1;32m      6\u001b[0m \u001b[0;32mfrom\u001b[0m \u001b[0mibapi\u001b[0m\u001b[0;34m.\u001b[0m\u001b[0mwrapper\u001b[0m \u001b[0;32mimport\u001b[0m \u001b[0mEWrapper\u001b[0m\u001b[0;34m\u001b[0m\u001b[0;34m\u001b[0m\u001b[0m\n\u001b[1;32m      7\u001b[0m \u001b[0;32mfrom\u001b[0m \u001b[0mibapi\u001b[0m\u001b[0;34m.\u001b[0m\u001b[0mcontract\u001b[0m \u001b[0;32mimport\u001b[0m \u001b[0mContract\u001b[0m\u001b[0;34m\u001b[0m\u001b[0;34m\u001b[0m\u001b[0m\n",
      "\u001b[0;31mModuleNotFoundError\u001b[0m: No module named 'ibapi'"
     ]
    }
   ],
   "source": [
    "# Import necessary libraries\n",
    "import numpy as np\n",
    "import pandas as pd\n",
    "import yfinance as yf\n",
    "from ibapi.client import EClient\n",
    "from ibapi.wrapper import EWrapper\n",
    "from ibapi.contract import Contract\n",
    "from ibapi.order import Order\n",
    "\n",
    "import datetime\n",
    "import time\n",
    "import threading"
   ]
  },
  {
   "cell_type": "code",
   "execution_count": null,
   "metadata": {},
   "outputs": [],
   "source": [
    "init_event = threading.Event() # init event\n",
    "id_event = threading.Event()\n",
    "hist_event = threading.Event()\n",
    "order_event = threading.Event()\n",
    "evec_event = threading.Event()\n",
    "port_event = threading.Event()\n",
    "value_event = threading.Event()"
   ]
  },
  {
   "cell_type": "code",
   "execution_count": null,
   "metadata": {},
   "outputs": [],
   "source": [
    "# define the App class\n",
    "class App(EClient, EWrapper):\n",
    "    def __init__(self, address, port, cid):\n",
    "        EClient.__init__(self, self)\n",
    "        # # list to store data\n",
    "        self.bar_dict = {}\n",
    "        # create a connection with IBKR\n",
    "        self.connect(address, port, cid)\n",
    "        # start client\n",
    "        thread = threading.Thread(target=self.run)\n",
    "        thread.start()\n",
    "        init_event.set()\n",
    "\n",
    "\n",
    "    def nextValidId(self, orderId: int):\n",
    "        # provide a new order id for each of my requests\n",
    "        super().nextValidId(orderId)\n",
    "        logging.debug(\"setting nextValidOrderId: %d\", orderId)\n",
    "        self.nextValidOrderId = orderId\n",
    "        print(\"NextValidId:\", orderId)\n",
    "        id_event.set()\n",
    "\n",
    "    def historicalData(self, reqId, bar):\n",
    "        if reqId not in self.bar_dict.keys():\n",
    "            self.bar_dict[reqId] = []\n",
    "        self.bar_dict[reqId].append(vars(bar))\n",
    "        \n",
    "    def historicalDataEnd(self, reqId, start, end):\n",
    "        print(f\"end of historicalData\")\n",
    "        hist_event.set()\n",
    "\n",
    "\n",
    "    # implement code to monitor trade status and receive confirmation of the trade\n",
    "    def openOrder(self, orderId: OrderId, contract: Contract, order: Order, orderstate: OrderState):\n",
    "        # openorder callback\n",
    "        print(f\"openOrder. orderId:{orderId}, contract:{contract}, order:{order}\")\n",
    "        order_event.set()\n",
    "\n",
    "    def orderStatus(self, orderId: OrderId, status: str, filled: float, reamining: float, avgFillPrice: float,\n",
    "                    permId: int, parenId: int, lastFillPrice: float, clientId: int, whyHeld:str, mktCapPrice: float):\n",
    "                    # orderstatus callback\n",
    "        print(f\"orderStatus. orderId: {orderId}, status: {status}, filled: {filled}, remaining:{reamining}, avgFillPrice: {avgFillPrice}, permId:{permId}, parentId:{parenId}, lastFillPrice: {lastFillPrice}, clientId: {clientId}, whyHeld: {whyHeld}, mktCapPrice:{mktCapPrice}\")\n",
    "\n",
    "    def execDetails(self, reqId: int, contract: Contract, execution: Execution):\n",
    "        print(f\"execDetails. reqId: {reqId}, contract: {contract}, execution: {execution}\")\n",
    "        evec_event.set()\n",
    "    # basically a summary\n",
    "\n",
    "    def commissionReport(self, commissionReport: CommissionReport):\n",
    "        super().commissionReport(commissionReport)\n",
    "        print(\"CommissionReport.\", commissionReport)\n",
    "        \n",
    "    # called when query portfolio information\n",
    "    def updatePortfolio(self, contract, position, marketPrice, marketValue, averageCost, unrealizedPNL, realizedPNL, accountName):\n",
    "        self.last_portfolio = pd.DataFrame(columns=[\"ticker\",\"quantity\",\"marketPrice\",\"marketValue\",\"averageCost\",\"unrealizedPNL\",\"realizedPNL\"])\n",
    "        self.last_portfolio = self.last_portfolio.append({\"ticker\":contract.symbol,\"quantity\":position,\"marketPrice\":marketPrice,\"marketValue\":marketValue,\"averageCost\":averageCost,\"unrealizedPNL\":unrealizedPNL,\"realizedPNL\":realizedPNL}, ignore_index=True)\n",
    "        port_event.set()\n",
    "\n",
    "    # query total value\n",
    "    def updateAccountSummary(self, reqId: int, account: str, tag: str, value: str, currency: str):\n",
    "        if tag == 'NetLiquidation':\n",
    "            self.total_value = float(value)\n",
    "            print(\"Total value of the account: \", self.total_value)\n",
    "        value_event.set()\n",
    "\n",
    "    def reqIds(self):\n",
    "        super().reqIds(-1)\n",
    "        id_event.wait()\n",
    "        id_event.clear()"
   ]
  },
  {
   "cell_type": "code",
   "execution_count": null,
   "metadata": {},
   "outputs": [],
   "source": [
    "# Connect to the TWS API\n",
    "app = App('127.0.0.1', 7497, 1000)\n",
    "init_event.wait() # wait until it's connected\n",
    "init_event.clear()"
   ]
  },
  {
   "cell_type": "code",
   "execution_count": null,
   "metadata": {},
   "outputs": [],
   "source": [
    "import numpy as np\n",
    "import pandas as pd\n",
    "import requests\n",
    "import yfinance as yf\n",
    "import bs4 as bs\n",
    "import datetime\n",
    "#get S&P tickers list from wikipedia\n",
    "resp = requests.get('http://en.wikipedia.org/wiki/List_of_S%26P_500_companies')\n",
    "soup = bs.BeautifulSoup(resp.text, 'lxml')\n",
    "table = soup.find('table', {'class': 'wikitable sortable'})\n",
    "\n",
    "tickers = []\n",
    "\n",
    "for row in table.findAll('tr')[1:]:\n",
    "    ticker_name = row.findAll('td')[0].text\n",
    "    tickers.append(ticker_name)\n",
    "\n",
    "#clean list\n",
    "tickers = [s.replace('\\n', '') for s in tickers]\n",
    "\n",
    "#get data from yfin\n",
    "start = datetime.datetime(2010, 1, 1)\n",
    "end = datetime.datetime.now().strftime(\"%Y-%m-%d\")\n",
    "data = yf.download(tickers, start=start, end=end)\n",
    "\n",
    "print(data)\n",
    "#TODO: note we might also need to get data from tws."
   ]
  },
  {
   "cell_type": "code",
   "execution_count": null,
   "metadata": {},
   "outputs": [],
   "source": []
  },
  {
   "attachments": {},
   "cell_type": "markdown",
   "metadata": {},
   "source": [
    "# data cleaning part"
   ]
  },
  {
   "cell_type": "code",
   "execution_count": null,
   "metadata": {},
   "outputs": [],
   "source": [
    "#clean data\n",
    "df = data.stack().reset_index().rename(index=str, columns={\"level_1\": \"Symbol\"}).sort_values(['Symbol','Date'])\n",
    "df.set_index('Date', inplace=True)\n",
    "\n",
    "#drop tickers not in the list\n",
    "tickers.remove(\"BRK.B\")\n",
    "tickers.remove(\"BF.B\")\n",
    "tickers.remove(\"FTV\")\n",
    "tickers.remove(\"GEHC\")\n",
    "\n",
    "#sort by group\n",
    "groups = df.groupby(\"Symbol\")\n",
    "Ticker_Data = {}\n",
    "\n",
    "for t in tickers:\n",
    "    Ticker_Data[t] = groups.get_group(t)"
   ]
  },
  {
   "attachments": {},
   "cell_type": "markdown",
   "metadata": {},
   "source": [
    "# main part\n",
    "# strategy implementation\n",
    "* decide what to buy & sell, as well as the quantity"
   ]
  },
  {
   "attachments": {},
   "cell_type": "markdown",
   "metadata": {},
   "source": [
    "下面这个cell不重要, 需要改写"
   ]
  },
  {
   "cell_type": "code",
   "execution_count": null,
   "metadata": {},
   "outputs": [],
   "source": [
    "#TODO: rewrite this\n",
    "# Calculate the UMD, BAB, and QMJ factors\n",
    "data[\"UMD\"] = data[\"Close\"] / data[\"Close\"].rolling(252).mean()\n",
    "data[\"BAB\"] = data[\"Volume\"] / data[\"Volume\"].rolling(252).mean()\n",
    "data[\"QMJ\"] = data[\"Close\"].rolling(252).std()\n",
    "\n",
    "# Calculate the Momentum factor\n",
    "data[\"Momentum\"] = data[\"Close\"].pct_change(252)\n",
    "\n",
    "# Create a trading algorithm that uses the momentum factor to generate buy and sell signals\n",
    "# Buy a component when Momentum > 0.05\n",
    "# Sell a component when Momentum < -0.05"
   ]
  },
  {
   "attachments": {},
   "cell_type": "markdown",
   "metadata": {},
   "source": [
    "# query the current portfolio\n"
   ]
  },
  {
   "cell_type": "code",
   "execution_count": null,
   "metadata": {},
   "outputs": [],
   "source": [
    "app.reqAccountUpdates(True, \"DU222526\") #TODO: replace the DU222526 with our account ID\n",
    "port_event.wait()\n",
    "port_event.clear()\n",
    "\n",
    "app.reqAccountSummary(1, \"All\", \"NetLiquidation\")\n",
    "value_event.wait()\n",
    "value_event.clear()\n",
    "\n",
    "last_portfolio = app.last_portfolio\n",
    "total_value = app.total_value"
   ]
  },
  {
   "attachments": {},
   "cell_type": "markdown",
   "metadata": {},
   "source": [
    "# decide the target portfolio\n",
    "* assume we know the weight of the target_portfolio\n",
    "* total_value - 1000 to save 1000 dollars in case something goes wrong"
   ]
  },
  {
   "cell_type": "code",
   "execution_count": null,
   "metadata": {},
   "outputs": [],
   "source": [
    "#TODO: we need to get the weight, mkt_price, ticker from main part of this notebook\n",
    "target_portfolio['quantity'] = np.floor(target_portfolio['weight'] * (total_value - 1000) / target_portfolio['mkt_price'])"
   ]
  },
  {
   "attachments": {},
   "cell_type": "markdown",
   "metadata": {},
   "source": [
    "# figure out the best order of our order. (To save commission fee)\n",
    "\n",
    "* target_portfolio\n",
    "> target_portfolio python pandas dataframe containing information of stocks portfolio(target portfolio) that I want to form through trading. The first column of the dataframe is stocks' tickers and the second column of the dataframe is the quantity of each stock that I want to hold. \n",
    "\n",
    "* last_portfolio\n",
    "> last_portfolio is a dataframe containing information of last portfolio that I hold"
   ]
  },
  {
   "cell_type": "code",
   "execution_count": null,
   "metadata": {},
   "outputs": [],
   "source": [
    "# Create a list to store the stocks that need to be sold\n",
    "stocks_to_sell = []\n",
    "# Create a list to store the stocks that need to buy\n",
    "stocks_to_buy = []\n",
    "\n",
    "# Iterate through the target_portfolio dataframe\n",
    "for index, row in target_portfolio.iterrows():\n",
    "    # Check if the stock is present in the last_portfolio dataframe\n",
    "    last_portfolio_stock = last_portfolio[last_portfolio['ticker'] == row['ticker']]\n",
    "    if not last_portfolio_stock.empty:\n",
    "        # Compare the quantities\n",
    "        last_portfolio_quantity = last_portfolio_stock['quantity'].values[0]\n",
    "        if row['quantity'] < last_portfolio_quantity:\n",
    "            # Calculate the difference in quantity\n",
    "            quantity_diff = last_portfolio_quantity - row['quantity'] \n",
    "            # Add the stock to the list of stocks to sell\n",
    "            stocks_to_sell.append([row['ticker'], quantity_diff])\n",
    "\n",
    "        if row['quantity'] > last_portfolio_quantity:\n",
    "            # Calculate the difference in quantity\n",
    "            quantity_diff = row['quantity'] - last_portfolio_quantity \n",
    "            # Add the stock to the list of stocks to buy\n",
    "            stocks_to_buy.append([row['ticker'], quantity_diff])\n",
    "\n",
    "# we also need to sell the stocks that are in last_portfolio but not in target_portfolio\n",
    "# Find the difference between the two portfolios\n",
    "new_tickers_to_sell = set(last_portfolio['ticker']).difference(set(target_portfolio['ticker']))\n",
    "\n",
    "for ticker in new_tickers_to_sell:\n",
    "    # Find the quantity of the stock to sell from the last_portfolio\n",
    "    quantity = last_portfolio.loc[last_portfolio['ticker'] == ticker, 'quantity'].values[0]\n",
    "    # append to stocks to sell\n",
    "    stocks_to_sell.append([ticker, quantity])\n",
    "\n",
    "# we also need to buy the stocks that are in target_protfolio but not in last_portfolio\n",
    "# Find the difference between the two portfolios\n",
    "new_tickers_to_buy = set(target_portfolio['ticker']).difference(set(last_portfolio['ticker']))\n",
    "\n",
    "for ticker in new_tickers_to_buy:\n",
    "    # Find the quantity of the stock to buy from the target_portfolio\n",
    "    quantity = target_portfolio.loc[target_portfolio['ticker'] == ticker, 'quantity'].values[0]\n",
    "    # append to stocks to buy\n",
    "    stocks_to_buy.append([ticker, quantity])"
   ]
  },
  {
   "attachments": {},
   "cell_type": "markdown",
   "metadata": {},
   "source": [
    "# place order"
   ]
  },
  {
   "cell_type": "code",
   "execution_count": null,
   "metadata": {},
   "outputs": [],
   "source": [
    "for stock in stocks_to_sell:\n",
    "    # Replace the place holder values with the appropriate values\n",
    "    ticker = stock[0]\n",
    "    quantity = stock[1]\n",
    "    contract = Contract()\n",
    "    contract.symbol = ticker\n",
    "    contract.secType = \"STK\"\n",
    "    contract.exchange = \"SMART\"\n",
    "    contract.currency = \"USD\"\n",
    "    order = Order()\n",
    "    order.action = \"SELL\"\n",
    "    order.orderType = \"MKT\"\n",
    "    order.totalQuantity = quantity\n",
    "    order.tif = \"GTC\" # default is day order\n",
    "\n",
    "    app.reqIds() # require a new id\n",
    "    orderid = app.nextValidOrderId\n",
    "    app.placeOrder(orderid, contract, order)\n",
    "\n",
    "for stock in stocks_to_buy:\n",
    "    # Replace the place holder values with the appropriate values\n",
    "    ticker = stock[0]\n",
    "    quantity = stock[1]\n",
    "    contract = Contract()\n",
    "    contract.symbol = ticker\n",
    "    contract.secType = \"STK\"\n",
    "    contract.exchange = \"SMART\"\n",
    "    contract.currency = \"USD\"\n",
    "    order = Order()\n",
    "    order.action = \"BUY\"\n",
    "    order.orderType = \"MKT\"\n",
    "    order.totalQuantity = quantity\n",
    "    order.tif = \"GTC\" # default is day order\n",
    "\n",
    "    app.reqIds() # require a new id\n",
    "    orderid = app.nextValidOrderId\n",
    "    app.placeOrder(orderid, contract, order)"
   ]
  }
 ],
 "metadata": {
  "kernelspec": {
   "display_name": "Python 3.10.8 ('tensorplustorch')",
   "language": "python",
   "name": "python3"
  },
  "language_info": {
   "name": "python",
   "version": "3.10.8"
  },
  "orig_nbformat": 4,
  "vscode": {
   "interpreter": {
    "hash": "efc08374433b8d8e4a9fd8a0a66f7295c7ce37eceb639810a945045512ff181b"
   }
  }
 },
 "nbformat": 4,
 "nbformat_minor": 2
}
