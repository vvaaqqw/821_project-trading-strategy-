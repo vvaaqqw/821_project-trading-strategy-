{
 "cells": [
  {
   "attachments": {},
   "cell_type": "markdown",
   "metadata": {},
   "source": [
    "### comment out the code below to install required packages"
   ]
  },
  {
   "cell_type": "code",
   "execution_count": 1,
   "metadata": {},
   "outputs": [],
   "source": [
    "# code to install all the packages we need\n",
    "# %pip install numpy\n",
    "# %pip install pandas\n",
    "# %pip install yfinance\n",
    "# %pip install requests\n",
    "# %pip install beautifulsoup4\n",
    "# %pip install scikit-learn\n",
    "# %pip install TA-Lib\n",
    "# %pip install joblib\n",
    "# %pip install pickle-mixin\n",
    "# %pip install riskfolio-lib\n",
    "# %pip install matplotlib"
   ]
  },
  {
   "cell_type": "code",
   "execution_count": 2,
   "metadata": {},
   "outputs": [],
   "source": [
    "# Import necessary libraries\n",
    "import numpy as np\n",
    "import pandas as pd\n",
    "import yfinance as yf\n",
    "from ibapi.client import *\n",
    "from ibapi.wrapper import *\n",
    "from ibapi.contract import *\n",
    "from ibapi.order import *\n",
    "import ibapi\n",
    "\n",
    "import requests\n",
    "import bs4 as bs\n",
    "import datetime\n",
    "import time\n",
    "import threading\n",
    "from sklearn.pipeline import Pipeline\n",
    "from sklearn.preprocessing import StandardScaler\n",
    "from sklearn.svm import SVC\n",
    "from sklearn.ensemble import RandomForestClassifier\n",
    "from sklearn.model_selection import GridSearchCV  \n",
    "from sklearn.model_selection import RandomizedSearchCV\n",
    "\n",
    "import joblib\n",
    "import pickle\n",
    "\n",
    "from scipy.stats import randint, uniform\n",
    "\n",
    "import talib as ta\n",
    "from talib import MA_Type\n",
    "\n",
    "import matplotlib.pyplot as plt\n"
   ]
  },
  {
   "cell_type": "code",
   "execution_count": 3,
   "metadata": {},
   "outputs": [],
   "source": [
    "init_event = threading.Event() # init event\n",
    "id_event = threading.Event()\n",
    "mkt_event = threading.Event()\n",
    "hist_event = threading.Event()\n",
    "order_event = threading.Event()\n",
    "evec_event = threading.Event()\n",
    "port_event = threading.Event()\n",
    "value_event = threading.Event()"
   ]
  },
  {
   "cell_type": "code",
   "execution_count": 4,
   "metadata": {},
   "outputs": [],
   "source": [
    "# define the App class\n",
    "class App(EClient, EWrapper):\n",
    "    def __init__(self, address, port, cid):\n",
    "        EClient.__init__(self, self)\n",
    "        # # list to store data\n",
    "        self.bar_dict = {}\n",
    "        self.mkt_price = []\n",
    "        # create a connection with IBKR\n",
    "        self.connect(address, port, cid)\n",
    "        self.last_portfolio = pd.DataFrame(columns=[\"ticker\",\"quantity\",\"marketPrice\",\"marketValue\",\"averageCost\",\"unrealizedPNL\",\"realizedPNL\"])\n",
    "        self.value = 0\n",
    "        # start client\n",
    "        thread = threading.Thread(target=self.run)\n",
    "        thread.start()\n",
    "        init_event.set()\n",
    "\n",
    "\n",
    "    def nextValidId(self, orderId: int):\n",
    "        # provide a new order id for each of my requests\n",
    "        super().nextValidId(orderId)\n",
    "        logging.debug(\"setting nextValidOrderId: %d\", orderId)\n",
    "        self.nextValidOrderId = orderId\n",
    "        print(\"NextValidId:\", orderId)\n",
    "        id_event.set()\n",
    "\n",
    "    def tickPrice(self, reqId: int, tickType: int, price: float, attrib: ibapi.common.TickAttrib):\n",
    "            print(\"Tick Price. Ticker Id:\", reqId, \"tickType:\", tickType, \"Price:\", price)\n",
    "            if tickType == 9: # if tickType is Close Price\n",
    "                self.mkt_price.append([reqId, price])\n",
    "                mkt_event.set()\n",
    "\n",
    "    def historicalData(self, reqId, bar):\n",
    "        if reqId not in self.bar_dict.keys():\n",
    "            self.bar_dict[reqId] = []\n",
    "        self.bar_dict[reqId].append(vars(bar))\n",
    "        \n",
    "    def historicalDataEnd(self, reqId, start, end):\n",
    "        print(f\"end of historicalData\")\n",
    "        hist_event.set()\n",
    "\n",
    "\n",
    "    # implement code to monitor trade status and receive confirmation of the trade\n",
    "    def openOrder(self, orderId: OrderId, contract: Contract, order: Order, orderstate: OrderState):\n",
    "        # openorder callback\n",
    "        print(f\"openOrder. orderId:{orderId}, contract:{contract}, order:{order}\")\n",
    "        order_event.set()\n",
    "\n",
    "    def orderStatus(self, orderId: OrderId, status: str, filled: float, reamining: float, avgFillPrice: float,\n",
    "                    permId: int, parenId: int, lastFillPrice: float, clientId: int, whyHeld:str, mktCapPrice: float):\n",
    "                    # orderstatus callback\n",
    "        print(f\"orderStatus. orderId: {orderId}, status: {status}, filled: {filled}, remaining:{reamining}, avgFillPrice: {avgFillPrice}, permId:{permId}, parentId:{parenId}, lastFillPrice: {lastFillPrice}, clientId: {clientId}, whyHeld: {whyHeld}, mktCapPrice:{mktCapPrice}\")\n",
    "\n",
    "    def execDetails(self, reqId: int, contract: Contract, execution: Execution):\n",
    "        print(f\"execDetails. reqId: {reqId}, contract: {contract}, execution: {execution}\")\n",
    "        evec_event.set()\n",
    "    # basically a summary\n",
    "\n",
    "    def commissionReport(self, commissionReport: CommissionReport):\n",
    "        super().commissionReport(commissionReport)\n",
    "        print(\"CommissionReport.\", commissionReport)\n",
    "        \n",
    "    # called when query portfolio information\n",
    "    def updatePortfolio(self, contract, position, marketPrice, marketValue, averageCost, unrealizedPNL, realizedPNL, accountName):\n",
    "        self.last_portfolio = pd.concat([self.last_portfolio,\n",
    "                                        pd.DataFrame([[contract.symbol, position, marketPrice, marketValue, averageCost, unrealizedPNL, realizedPNL]],\n",
    "                                                    columns=self.last_portfolio.columns)],\n",
    "                                        ignore_index=True)\n",
    "        port_event.set()\n",
    "\n",
    "    # query total value\n",
    "    def accountSummary(self, reqId: int, account: str, tag: str, value: str, currency: str):\n",
    "        self.value = float(value)\n",
    "        print(\"Total value of the account: \", self.value)\n",
    "    \n",
    "    def accountSummaryEnd(self, reqId: int):\n",
    "        print('end of account summary')\n",
    "        value_event.set()"
   ]
  },
  {
   "cell_type": "code",
   "execution_count": 5,
   "metadata": {},
   "outputs": [
    {
     "name": "stderr",
     "output_type": "stream",
     "text": [
      "ERROR -1 502 Couldn't connect to TWS. Confirm that \"Enable ActiveX and Socket EClients\" \n",
      "is enabled and connection port is the same as \"Socket Port\" on the \n",
      "TWS \"Edit->Global Configuration...->API->Settings\" menu. Live Trading ports: \n",
      "TWS: 7496; IB Gateway: 4001. Simulated Trading ports for new installations \n",
      "of version 954.1 or newer:  TWS: 7497; IB Gateway: 4002\n"
     ]
    }
   ],
   "source": [
    "# Connect to the TWS API\n",
    "app = App('127.0.0.1', 7497, 1000)\n",
    "init_event.wait() # wait until it's connected\n",
    "init_event.clear()"
   ]
  },
  {
   "cell_type": "code",
   "execution_count": 6,
   "metadata": {},
   "outputs": [
    {
     "name": "stderr",
     "output_type": "stream",
     "text": [
      "ERROR -1 504 Not connected\n"
     ]
    }
   ],
   "source": [
    "app.reqMarketDataType(1) # in case it doesn't work, change 1 to 3"
   ]
  },
  {
   "cell_type": "code",
   "execution_count": 7,
   "metadata": {},
   "outputs": [
    {
     "name": "stdout",
     "output_type": "stream",
     "text": [
      "[*********************100%***********************]  503 of 503 completed\n",
      "\n",
      "2 Failed downloads:\n",
      "- BF.B: No data found for this date range, symbol may be delisted\n",
      "- BRK.B: No timezone found, symbol may be delisted\n",
      "                            Adj Close                                     \\\n",
      "                                    A        AAL         AAP        AAPL   \n",
      "Date                                                                       \n",
      "2010-01-04 00:00:00-05:00   20.301363   4.496876   37.163254    6.505280   \n",
      "2010-01-05 00:00:00-05:00   20.080832   5.005958   36.942375    6.516528   \n",
      "2010-01-06 00:00:00-05:00   20.009491   4.798554   37.264507    6.412873   \n",
      "2010-01-07 00:00:00-05:00   19.983541   4.939965   37.255295    6.401018   \n",
      "2010-01-08 00:00:00-05:00   19.977058   4.845691   37.402546    6.443574   \n",
      "...                               ...        ...         ...         ...   \n",
      "2023-03-10 00:00:00-05:00  135.720001  15.460000  128.039993  148.500000   \n",
      "2023-03-13 00:00:00-04:00  136.690002  14.850000  124.360001  150.470001   \n",
      "2023-03-14 00:00:00-04:00  138.399994  14.660000  121.699997  152.589996   \n",
      "2023-03-15 00:00:00-04:00  134.029999  13.860000  121.769997  152.990005   \n",
      "2023-03-16 00:00:00-04:00  136.820007  14.120000  122.029999  155.850006   \n",
      "\n",
      "                                                                         \\\n",
      "                                 ABBV         ABC        ABT       ACGL   \n",
      "Date                                                                      \n",
      "2010-01-04 00:00:00-05:00         NaN   21.831720  19.433037   7.994444   \n",
      "2010-01-05 00:00:00-05:00         NaN   21.675955  19.276035   7.967778   \n",
      "2010-01-06 00:00:00-05:00         NaN   21.471001  19.383080   7.933333   \n",
      "2010-01-07 00:00:00-05:00         NaN   21.126675  19.543655   7.886667   \n",
      "2010-01-08 00:00:00-05:00         NaN   21.356226  19.643568   7.871111   \n",
      "...                               ...         ...        ...        ...   \n",
      "2023-03-10 00:00:00-05:00  149.710007  149.600006  96.959999  66.610001   \n",
      "2023-03-13 00:00:00-04:00  151.949997  148.369995  98.190002  65.180000   \n",
      "2023-03-14 00:00:00-04:00  153.850006  149.289993  98.550003  67.339996   \n",
      "2023-03-15 00:00:00-04:00  154.059998  149.610001  97.800003  62.740002   \n",
      "2023-03-16 00:00:00-04:00  155.300003  152.050003  99.029999  66.070000   \n",
      "\n",
      "                                                   ...   Volume           \\\n",
      "                                  ACN        ADBE  ...     WYNN      XEL   \n",
      "Date                                               ...                     \n",
      "2010-01-04 00:00:00-05:00   32.836605   37.090000  ...  4741400  2670400   \n",
      "2010-01-05 00:00:00-05:00   33.039539   37.700001  ...  5644300  4321400   \n",
      "2010-01-06 00:00:00-05:00   33.390778   37.619999  ...  2738800  2164500   \n",
      "2010-01-07 00:00:00-05:00   33.359554   36.889999  ...  2388500  3041700   \n",
      "2010-01-08 00:00:00-05:00   33.226868   36.689999  ...  1539800  1599100   \n",
      "...                               ...         ...  ...      ...      ...   \n",
      "2023-03-10 00:00:00-05:00  252.949997  329.299988  ...  3425100  3111700   \n",
      "2023-03-13 00:00:00-04:00  251.309998  324.269989  ...  2653900  4978500   \n",
      "2023-03-14 00:00:00-04:00  252.479996  333.329987  ...  2212800  3794100   \n",
      "2023-03-15 00:00:00-04:00  246.169998  333.609985  ...  3135800  4601300   \n",
      "2023-03-16 00:00:00-04:00  252.919998  353.290009  ...  2615000  4209500   \n",
      "\n",
      "                                                                           \\\n",
      "                                XOM     XRAY        XYL      YUM      ZBH   \n",
      "Date                                                                        \n",
      "2010-01-04 00:00:00-05:00  27809100  1051400        NaN  2962274   805872   \n",
      "2010-01-05 00:00:00-05:00  30174700   763400        NaN  3298757  1769643   \n",
      "2010-01-06 00:00:00-05:00  35044700  1595100        NaN  4178981  1315619   \n",
      "2010-01-07 00:00:00-05:00  27192100  1096100        NaN  2452472  1734005   \n",
      "2010-01-08 00:00:00-05:00  24891800   803600        NaN  3772392  2213985   \n",
      "...                             ...      ...        ...      ...      ...   \n",
      "2023-03-10 00:00:00-05:00  15794600  2147000  1257100.0  1604700  1589100   \n",
      "2023-03-13 00:00:00-04:00  20745600  3378900  1613300.0  1416600  1338800   \n",
      "2023-03-14 00:00:00-04:00  18263500  2626200  1405000.0  1378500  1944700   \n",
      "2023-03-15 00:00:00-04:00  25733800  2208500  1237100.0  1748400  1361300   \n",
      "2023-03-16 00:00:00-04:00  27476100  1622000  1693000.0  1481400   987800   \n",
      "\n",
      "                                                        \n",
      "                             ZBRA      ZION        ZTS  \n",
      "Date                                                    \n",
      "2010-01-04 00:00:00-05:00  168800   3974600        NaN  \n",
      "2010-01-05 00:00:00-05:00  168800   5605500        NaN  \n",
      "2010-01-06 00:00:00-05:00  385300  12615200        NaN  \n",
      "2010-01-07 00:00:00-05:00  183600  24716800        NaN  \n",
      "2010-01-08 00:00:00-05:00  266500   6903000        NaN  \n",
      "...                           ...       ...        ...  \n",
      "2023-03-10 00:00:00-05:00  258400  11346100  3326400.0  \n",
      "2023-03-13 00:00:00-04:00  265500  26129900  2772100.0  \n",
      "2023-03-14 00:00:00-04:00  211300  17257000  1911300.0  \n",
      "2023-03-15 00:00:00-04:00  272900   9338700  1824100.0  \n",
      "2023-03-16 00:00:00-04:00  333400  11467000  2040500.0  \n",
      "\n",
      "[3323 rows x 3018 columns]\n"
     ]
    }
   ],
   "source": [
    "#get S&P tickers list from wikipedia\n",
    "resp = requests.get('http://en.wikipedia.org/wiki/List_of_S%26P_500_companies')\n",
    "soup = bs.BeautifulSoup(resp.text, 'lxml')\n",
    "table = soup.find('table', {'class': 'wikitable sortable'})\n",
    "\n",
    "tickers = []\n",
    "\n",
    "for row in table.findAll('tr')[1:]:\n",
    "    ticker_name = row.findAll('td')[0].text\n",
    "    tickers.append(ticker_name)\n",
    "\n",
    "#clean list\n",
    "tickers = [s.replace('\\n', '') for s in tickers]\n",
    "\n",
    "#get data from yfin\n",
    "start = datetime.datetime(2010, 1, 1)\n",
    "end = datetime.datetime.now().strftime(\"%Y-%m-%d\")\n",
    "data = yf.download(tickers, start=start, end=end)\n",
    "\n",
    "print(data)\n",
    "#TODO: note we might also need to get data from tws."
   ]
  },
  {
   "cell_type": "code",
   "execution_count": 8,
   "metadata": {},
   "outputs": [],
   "source": [
    "data.to_pickle('SP500_data.pkl')"
   ]
  },
  {
   "cell_type": "code",
   "execution_count": 9,
   "metadata": {},
   "outputs": [],
   "source": [
    "# data = pd.read_pickle('SP500_data.pkl')"
   ]
  },
  {
   "attachments": {},
   "cell_type": "markdown",
   "metadata": {},
   "source": [
    "# data cleaning part"
   ]
  },
  {
   "cell_type": "code",
   "execution_count": 10,
   "metadata": {},
   "outputs": [],
   "source": [
    "#clean data\n",
    "df = data.stack().reset_index().rename(index=str, columns={\"level_1\": \"Symbol\"}).sort_values(['Symbol','Date'])\n",
    "df.set_index('Date', inplace=True)\n",
    "\n",
    "#drop tickers not in the list\n",
    "tickers.remove(\"BRK.B\")\n",
    "tickers.remove(\"BF.B\")\n",
    "tickers.remove(\"FTV\")\n",
    "tickers.remove(\"GEHC\")\n",
    "\n",
    "#sort by group\n",
    "groups = df.groupby(\"Symbol\")\n",
    "Ticker_Data = {}\n",
    "\n",
    "for t in tickers:\n",
    "    Ticker_Data[t] = groups.get_group(t)"
   ]
  },
  {
   "cell_type": "code",
   "execution_count": 11,
   "metadata": {},
   "outputs": [
    {
     "data": {
      "text/html": [
       "<div>\n",
       "<style scoped>\n",
       "    .dataframe tbody tr th:only-of-type {\n",
       "        vertical-align: middle;\n",
       "    }\n",
       "\n",
       "    .dataframe tbody tr th {\n",
       "        vertical-align: top;\n",
       "    }\n",
       "\n",
       "    .dataframe thead th {\n",
       "        text-align: right;\n",
       "    }\n",
       "</style>\n",
       "<table border=\"1\" class=\"dataframe\">\n",
       "  <thead>\n",
       "    <tr style=\"text-align: right;\">\n",
       "      <th></th>\n",
       "      <th>Symbol</th>\n",
       "      <th>Adj Close</th>\n",
       "      <th>Close</th>\n",
       "      <th>High</th>\n",
       "      <th>Low</th>\n",
       "      <th>Open</th>\n",
       "      <th>Volume</th>\n",
       "    </tr>\n",
       "    <tr>\n",
       "      <th>Date</th>\n",
       "      <th></th>\n",
       "      <th></th>\n",
       "      <th></th>\n",
       "      <th></th>\n",
       "      <th></th>\n",
       "      <th></th>\n",
       "      <th></th>\n",
       "    </tr>\n",
       "  </thead>\n",
       "  <tbody>\n",
       "    <tr>\n",
       "      <th>2010-01-04 00:00:00-05:00</th>\n",
       "      <td>A</td>\n",
       "      <td>20.301363</td>\n",
       "      <td>22.389128</td>\n",
       "      <td>22.625179</td>\n",
       "      <td>22.267525</td>\n",
       "      <td>22.453505</td>\n",
       "      <td>3815561.0</td>\n",
       "    </tr>\n",
       "    <tr>\n",
       "      <th>2010-01-05 00:00:00-05:00</th>\n",
       "      <td>A</td>\n",
       "      <td>20.080832</td>\n",
       "      <td>22.145924</td>\n",
       "      <td>22.331903</td>\n",
       "      <td>22.002861</td>\n",
       "      <td>22.324751</td>\n",
       "      <td>4186031.0</td>\n",
       "    </tr>\n",
       "    <tr>\n",
       "      <th>2010-01-06 00:00:00-05:00</th>\n",
       "      <td>A</td>\n",
       "      <td>20.009491</td>\n",
       "      <td>22.067240</td>\n",
       "      <td>22.174536</td>\n",
       "      <td>22.002861</td>\n",
       "      <td>22.067240</td>\n",
       "      <td>3243779.0</td>\n",
       "    </tr>\n",
       "    <tr>\n",
       "      <th>2010-01-07 00:00:00-05:00</th>\n",
       "      <td>A</td>\n",
       "      <td>19.983541</td>\n",
       "      <td>22.038628</td>\n",
       "      <td>22.045780</td>\n",
       "      <td>21.816881</td>\n",
       "      <td>22.017166</td>\n",
       "      <td>3095172.0</td>\n",
       "    </tr>\n",
       "    <tr>\n",
       "      <th>2010-01-08 00:00:00-05:00</th>\n",
       "      <td>A</td>\n",
       "      <td>19.977058</td>\n",
       "      <td>22.031473</td>\n",
       "      <td>22.067240</td>\n",
       "      <td>21.745352</td>\n",
       "      <td>21.917025</td>\n",
       "      <td>3733918.0</td>\n",
       "    </tr>\n",
       "    <tr>\n",
       "      <th>...</th>\n",
       "      <td>...</td>\n",
       "      <td>...</td>\n",
       "      <td>...</td>\n",
       "      <td>...</td>\n",
       "      <td>...</td>\n",
       "      <td>...</td>\n",
       "      <td>...</td>\n",
       "    </tr>\n",
       "    <tr>\n",
       "      <th>2023-03-10 00:00:00-05:00</th>\n",
       "      <td>ZTS</td>\n",
       "      <td>161.529999</td>\n",
       "      <td>161.529999</td>\n",
       "      <td>163.360001</td>\n",
       "      <td>160.070007</td>\n",
       "      <td>163.000000</td>\n",
       "      <td>3326400.0</td>\n",
       "    </tr>\n",
       "    <tr>\n",
       "      <th>2023-03-13 00:00:00-04:00</th>\n",
       "      <td>ZTS</td>\n",
       "      <td>163.410004</td>\n",
       "      <td>163.410004</td>\n",
       "      <td>164.889999</td>\n",
       "      <td>159.850006</td>\n",
       "      <td>161.990005</td>\n",
       "      <td>2772100.0</td>\n",
       "    </tr>\n",
       "    <tr>\n",
       "      <th>2023-03-14 00:00:00-04:00</th>\n",
       "      <td>ZTS</td>\n",
       "      <td>164.559998</td>\n",
       "      <td>164.559998</td>\n",
       "      <td>166.860001</td>\n",
       "      <td>162.470001</td>\n",
       "      <td>165.960007</td>\n",
       "      <td>1911300.0</td>\n",
       "    </tr>\n",
       "    <tr>\n",
       "      <th>2023-03-15 00:00:00-04:00</th>\n",
       "      <td>ZTS</td>\n",
       "      <td>163.570007</td>\n",
       "      <td>163.570007</td>\n",
       "      <td>163.679993</td>\n",
       "      <td>160.119995</td>\n",
       "      <td>162.000000</td>\n",
       "      <td>1824100.0</td>\n",
       "    </tr>\n",
       "    <tr>\n",
       "      <th>2023-03-16 00:00:00-04:00</th>\n",
       "      <td>ZTS</td>\n",
       "      <td>166.309998</td>\n",
       "      <td>166.309998</td>\n",
       "      <td>166.839996</td>\n",
       "      <td>162.250000</td>\n",
       "      <td>162.509995</td>\n",
       "      <td>2040500.0</td>\n",
       "    </tr>\n",
       "  </tbody>\n",
       "</table>\n",
       "<p>1593065 rows × 7 columns</p>\n",
       "</div>"
      ],
      "text/plain": [
       "                          Symbol   Adj Close       Close        High  \\\n",
       "Date                                                                   \n",
       "2010-01-04 00:00:00-05:00      A   20.301363   22.389128   22.625179   \n",
       "2010-01-05 00:00:00-05:00      A   20.080832   22.145924   22.331903   \n",
       "2010-01-06 00:00:00-05:00      A   20.009491   22.067240   22.174536   \n",
       "2010-01-07 00:00:00-05:00      A   19.983541   22.038628   22.045780   \n",
       "2010-01-08 00:00:00-05:00      A   19.977058   22.031473   22.067240   \n",
       "...                          ...         ...         ...         ...   \n",
       "2023-03-10 00:00:00-05:00    ZTS  161.529999  161.529999  163.360001   \n",
       "2023-03-13 00:00:00-04:00    ZTS  163.410004  163.410004  164.889999   \n",
       "2023-03-14 00:00:00-04:00    ZTS  164.559998  164.559998  166.860001   \n",
       "2023-03-15 00:00:00-04:00    ZTS  163.570007  163.570007  163.679993   \n",
       "2023-03-16 00:00:00-04:00    ZTS  166.309998  166.309998  166.839996   \n",
       "\n",
       "                                  Low        Open     Volume  \n",
       "Date                                                          \n",
       "2010-01-04 00:00:00-05:00   22.267525   22.453505  3815561.0  \n",
       "2010-01-05 00:00:00-05:00   22.002861   22.324751  4186031.0  \n",
       "2010-01-06 00:00:00-05:00   22.002861   22.067240  3243779.0  \n",
       "2010-01-07 00:00:00-05:00   21.816881   22.017166  3095172.0  \n",
       "2010-01-08 00:00:00-05:00   21.745352   21.917025  3733918.0  \n",
       "...                               ...         ...        ...  \n",
       "2023-03-10 00:00:00-05:00  160.070007  163.000000  3326400.0  \n",
       "2023-03-13 00:00:00-04:00  159.850006  161.990005  2772100.0  \n",
       "2023-03-14 00:00:00-04:00  162.470001  165.960007  1911300.0  \n",
       "2023-03-15 00:00:00-04:00  160.119995  162.000000  1824100.0  \n",
       "2023-03-16 00:00:00-04:00  162.250000  162.509995  2040500.0  \n",
       "\n",
       "[1593065 rows x 7 columns]"
      ]
     },
     "execution_count": 11,
     "metadata": {},
     "output_type": "execute_result"
    }
   ],
   "source": [
    "df"
   ]
  },
  {
   "cell_type": "code",
   "execution_count": null,
   "metadata": {},
   "outputs": [],
   "source": [
    "\n",
    "# for t in tickers:\n",
    "#     Ticker_Data[t].loc[:,'High Shifted']=Ticker_Data[t]['High'].shift(1)\n",
    "#     Ticker_Data[t].loc[:,'Low Shifted'] = Ticker_Data[t]['Low'].shift(1)\n",
    "#     Ticker_Data[t].loc[:,'Close Shifted'] = Ticker_Data[t]['Close'].shift(1)\n",
    "    \n",
    "#     Ticker_Data[t].loc[:,'Upper BBand'], Ticker_Data[t].loc[:,'Middle BBand'],Ticker_Data[t].loc[:,'Lower BBand']= ta.BBANDS(Ticker_Data[t]['Close Shifted'],\n",
    "#                                                                                                        timeperiod=20)\n",
    "\n",
    "#     Ticker_Data[t].loc[:,'Macd'], Ticker_Data[t].loc[:,'Macd Signal'],Ticker_Data[t].loc[:,'Macd Hist'] = ta.MACD(Ticker_Data[t]['Close Shifted'], fastperiod=12, slowperiod=26, \n",
    "#                                                                signalperiod=9)\n",
    "#     Ticker_Data[t].loc[:,'Momentum'] = ta.MOM(Ticker_Data[t]['Close Shifted'],timeperiod=10)\n",
    "    \n",
    "#     Ticker_Data[t].loc[:,'RSI'] = ta.RSI(np.array(Ticker_Data[t]['Close Shifted']), timeperiod=12)\n",
    "\n",
    "#     Ticker_Data[t].loc[:,'ROC'] = ta.ROC(np.array(Ticker_Data[t]['Close Shifted']), timeperiod=10)\n",
    "\n",
    "#     Ticker_Data[t].loc[:,'Returns'] = np.log(Ticker_Data[t]['Open'].shift(-7)/Ticker_Data[t]['Open']) # I want to predict the return of 7 trading days after today.\n",
    "\n",
    "#     Ticker_Data[t].dropna(inplace =True)\n",
    "\n",
    "#     # get rid of the 30% data in the middle to reduce noise.\n",
    "#     Ticker_Data[t]=Ticker_Data[t].sort_values(by=['Returns'])\n",
    "#     Ticker_Data[t]=pd.concat([Ticker_Data[t].iloc[:int(np.floor(len(Ticker_Data[t]['Returns'])*0.35)),:],\n",
    "#                             Ticker_Data[t].iloc[int(np.floor(len(Ticker_Data[t]['Returns'])*0.85)):,:]])"
   ]
  },
  {
   "cell_type": "code",
   "execution_count": null,
   "metadata": {},
   "outputs": [],
   "source": [
    "last_X = {} # use the last day's data to make prediction\n",
    "\n",
    "for t in tickers:\n",
    "    Ticker_Data[t].loc[:,'High Shifted']=Ticker_Data[t]['High'].shift(1)\n",
    "    Ticker_Data[t].loc[:,'Low Shifted'] = Ticker_Data[t]['Low'].shift(1)\n",
    "    Ticker_Data[t].loc[:,'Close Shifted'] = Ticker_Data[t]['Close'].shift(1)\n",
    "    \n",
    "    Ticker_Data[t].loc[:,'Upper BBand'], Ticker_Data[t].loc[:,'Middle BBand'],Ticker_Data[t].loc[:,'Lower BBand']= ta.BBANDS(Ticker_Data[t]['Close Shifted'],\n",
    "                                                                                                       timeperiod=20)\n",
    "\n",
    "    Ticker_Data[t].loc[:,'Macd'], Ticker_Data[t].loc[:,'Macd Signal'],Ticker_Data[t].loc[:,'Macd Hist'] = ta.MACD(Ticker_Data[t]['Close Shifted'], fastperiod=12, slowperiod=26, \n",
    "                                                               signalperiod=9)\n",
    "    Ticker_Data[t].loc[:,'Momentum'] = ta.MOM(Ticker_Data[t]['Close Shifted'],timeperiod=10)\n",
    "    \n",
    "    Ticker_Data[t].loc[:,'RSI'] = ta.RSI(np.array(Ticker_Data[t]['Close Shifted']), timeperiod=12)\n",
    "\n",
    "    Ticker_Data[t].loc[:,'ROC'] = ta.ROC(np.array(Ticker_Data[t]['Close Shifted']), timeperiod=10)\n",
    "\n",
    "    Ticker_Data[t].loc[:,'Returns'] = np.log(Ticker_Data[t]['Open'].shift(-7)/Ticker_Data[t]['Open']) # I want to predict the return of 7 trading days after today.\n",
    "\n",
    "    last_X[t] = Ticker_Data[t].iloc[-1,:].drop(['Returns', 'Symbol', 'High Shifted', 'Low Shifted', 'Close Shifted'])\n",
    "\n",
    "    Ticker_Data[t].dropna(inplace =True)\n",
    "\n",
    "    # get rid of the 30% data in the middle to reduce noise.\n",
    "    Ticker_Data[t]=Ticker_Data[t].sort_values(by=['Returns'])\n",
    "    Ticker_Data[t]=pd.concat([Ticker_Data[t].iloc[:int(np.floor(len(Ticker_Data[t]['Returns'])*0.35)),:],\n",
    "                            Ticker_Data[t].iloc[int(np.floor(len(Ticker_Data[t]['Returns'])*0.85)):,:]])"
   ]
  },
  {
   "attachments": {},
   "cell_type": "markdown",
   "metadata": {},
   "source": [
    "# stock selection"
   ]
  },
  {
   "cell_type": "code",
   "execution_count": 13,
   "metadata": {},
   "outputs": [],
   "source": [
    "X = []\n",
    "Y = []\n",
    "\n",
    "for i in tickers:\n",
    "    X.append(Ticker_Data[i].drop(columns=['Symbol','Returns', 'High Shifted', 'Low Shifted', 'Close Shifted']))\n",
    "    Y.append(Ticker_Data[i]['Returns'].apply(lambda x:1 if (x>np.mean(Ticker_Data[i]['Returns']) and (x>0)) else -1)) # 1 or -1\n",
    "# turn list into dataframe\n",
    "X = pd.concat(X)\n",
    "Y = pd.concat(Y)"
   ]
  },
  {
   "cell_type": "code",
   "execution_count": 14,
   "metadata": {},
   "outputs": [
    {
     "name": "stdout",
     "output_type": "stream",
     "text": [
      "Fitting 5 folds for each of 10 candidates, totalling 50 fits\n",
      "[CV] END classifier__max_depth=6, classifier__max_features=log2, classifier__min_samples_leaf=2, classifier__min_samples_split=7, classifier__n_estimators=373; total time=14.9min\n",
      "[CV] END classifier__max_depth=6, classifier__max_features=log2, classifier__min_samples_leaf=2, classifier__min_samples_split=7, classifier__n_estimators=373; total time=15.0min\n",
      "[CV] END classifier__max_depth=6, classifier__max_features=log2, classifier__min_samples_leaf=2, classifier__min_samples_split=7, classifier__n_estimators=373; total time=15.1min\n",
      "[CV] END classifier__max_depth=16, classifier__max_features=sqrt, classifier__min_samples_leaf=5, classifier__min_samples_split=2, classifier__n_estimators=242; total time=19.8min\n",
      "[CV] END classifier__max_depth=16, classifier__max_features=sqrt, classifier__min_samples_leaf=5, classifier__min_samples_split=2, classifier__n_estimators=242; total time=19.9min\n",
      "[CV] END classifier__max_depth=16, classifier__max_features=sqrt, classifier__min_samples_leaf=5, classifier__min_samples_split=2, classifier__n_estimators=242; total time=20.1min\n",
      "[CV] END classifier__max_depth=16, classifier__max_features=sqrt, classifier__min_samples_leaf=5, classifier__min_samples_split=2, classifier__n_estimators=242; total time=20.2min\n",
      "[CV] END classifier__max_depth=16, classifier__max_features=sqrt, classifier__min_samples_leaf=5, classifier__min_samples_split=2, classifier__n_estimators=242; total time=20.3min\n",
      "[CV] END classifier__max_depth=6, classifier__max_features=log2, classifier__min_samples_leaf=2, classifier__min_samples_split=7, classifier__n_estimators=373; total time=15.3min\n",
      "[CV] END classifier__max_depth=6, classifier__max_features=log2, classifier__min_samples_leaf=2, classifier__min_samples_split=7, classifier__n_estimators=373; total time=15.6min\n",
      "[CV] END classifier__max_depth=11, classifier__max_features=log2, classifier__min_samples_leaf=3, classifier__min_samples_split=4, classifier__n_estimators=267; total time=17.7min\n",
      "[CV] END classifier__max_depth=15, classifier__max_features=sqrt, classifier__min_samples_leaf=2, classifier__min_samples_split=8, classifier__n_estimators=393; total time=32.4min\n",
      "[CV] END classifier__max_depth=11, classifier__max_features=log2, classifier__min_samples_leaf=3, classifier__min_samples_split=4, classifier__n_estimators=267; total time=17.6min\n",
      "[CV] END classifier__max_depth=11, classifier__max_features=log2, classifier__min_samples_leaf=3, classifier__min_samples_split=4, classifier__n_estimators=267; total time=17.5min\n",
      "[CV] END classifier__max_depth=15, classifier__max_features=sqrt, classifier__min_samples_leaf=2, classifier__min_samples_split=8, classifier__n_estimators=393; total time=31.9min\n",
      "[CV] END classifier__max_depth=15, classifier__max_features=sqrt, classifier__min_samples_leaf=2, classifier__min_samples_split=8, classifier__n_estimators=393; total time=31.7min\n",
      "[CV] END classifier__max_depth=15, classifier__max_features=sqrt, classifier__min_samples_leaf=2, classifier__min_samples_split=8, classifier__n_estimators=393; total time=31.8min\n",
      "[CV] END classifier__max_depth=15, classifier__max_features=sqrt, classifier__min_samples_leaf=2, classifier__min_samples_split=8, classifier__n_estimators=393; total time=32.2min\n",
      "[CV] END classifier__max_depth=11, classifier__max_features=log2, classifier__min_samples_leaf=3, classifier__min_samples_split=4, classifier__n_estimators=267; total time=17.4min\n",
      "[CV] END classifier__max_depth=11, classifier__max_features=log2, classifier__min_samples_leaf=3, classifier__min_samples_split=4, classifier__n_estimators=267; total time=17.8min\n",
      "[CV] END classifier__max_depth=18, classifier__max_features=sqrt, classifier__min_samples_leaf=4, classifier__min_samples_split=7, classifier__n_estimators=201; total time=18.3min\n",
      "[CV] END classifier__max_depth=18, classifier__max_features=sqrt, classifier__min_samples_leaf=4, classifier__min_samples_split=7, classifier__n_estimators=201; total time=18.4min\n",
      "[CV] END classifier__max_depth=16, classifier__max_features=sqrt, classifier__min_samples_leaf=4, classifier__min_samples_split=7, classifier__n_estimators=170; total time=14.5min\n",
      "[CV] END classifier__max_depth=16, classifier__max_features=sqrt, classifier__min_samples_leaf=4, classifier__min_samples_split=7, classifier__n_estimators=170; total time=14.2min\n",
      "[CV] END classifier__max_depth=18, classifier__max_features=sqrt, classifier__min_samples_leaf=4, classifier__min_samples_split=7, classifier__n_estimators=201; total time=18.2min\n",
      "[CV] END classifier__max_depth=18, classifier__max_features=sqrt, classifier__min_samples_leaf=4, classifier__min_samples_split=7, classifier__n_estimators=201; total time=18.3min\n",
      "[CV] END classifier__max_depth=18, classifier__max_features=sqrt, classifier__min_samples_leaf=4, classifier__min_samples_split=7, classifier__n_estimators=201; total time=18.4min\n",
      "[CV] END classifier__max_depth=16, classifier__max_features=sqrt, classifier__min_samples_leaf=4, classifier__min_samples_split=7, classifier__n_estimators=170; total time=14.5min\n",
      "[CV] END classifier__max_depth=16, classifier__max_features=sqrt, classifier__min_samples_leaf=4, classifier__min_samples_split=7, classifier__n_estimators=170; total time=14.3min\n",
      "[CV] END classifier__max_depth=16, classifier__max_features=sqrt, classifier__min_samples_leaf=4, classifier__min_samples_split=7, classifier__n_estimators=170; total time=14.5min\n",
      "[CV] END classifier__max_depth=6, classifier__max_features=log2, classifier__min_samples_leaf=1, classifier__min_samples_split=7, classifier__n_estimators=413; total time=16.8min\n",
      "[CV] END classifier__max_depth=6, classifier__max_features=log2, classifier__min_samples_leaf=1, classifier__min_samples_split=7, classifier__n_estimators=413; total time=17.0min\n",
      "[CV] END classifier__max_depth=6, classifier__max_features=log2, classifier__min_samples_leaf=1, classifier__min_samples_split=7, classifier__n_estimators=413; total time=17.2min\n",
      "[CV] END classifier__max_depth=6, classifier__max_features=log2, classifier__min_samples_leaf=1, classifier__min_samples_split=7, classifier__n_estimators=413; total time=16.9min\n",
      "[CV] END classifier__max_depth=6, classifier__max_features=log2, classifier__min_samples_leaf=1, classifier__min_samples_split=7, classifier__n_estimators=413; total time=17.0min\n",
      "[CV] END classifier__max_depth=17, classifier__max_features=sqrt, classifier__min_samples_leaf=1, classifier__min_samples_split=4, classifier__n_estimators=287; total time=25.3min\n",
      "[CV] END classifier__max_depth=17, classifier__max_features=sqrt, classifier__min_samples_leaf=1, classifier__min_samples_split=4, classifier__n_estimators=287; total time=25.2min\n",
      "[CV] END classifier__max_depth=17, classifier__max_features=sqrt, classifier__min_samples_leaf=1, classifier__min_samples_split=4, classifier__n_estimators=287; total time=25.3min\n",
      "[CV] END classifier__max_depth=17, classifier__max_features=sqrt, classifier__min_samples_leaf=1, classifier__min_samples_split=4, classifier__n_estimators=287; total time=25.1min\n",
      "[CV] END classifier__max_depth=17, classifier__max_features=sqrt, classifier__min_samples_leaf=1, classifier__min_samples_split=4, classifier__n_estimators=287; total time=25.1min\n",
      "[CV] END classifier__max_depth=10, classifier__max_features=log2, classifier__min_samples_leaf=5, classifier__min_samples_split=9, classifier__n_estimators=467; total time=28.6min\n",
      "[CV] END classifier__max_depth=10, classifier__max_features=log2, classifier__min_samples_leaf=5, classifier__min_samples_split=9, classifier__n_estimators=467; total time=28.7min\n",
      "[CV] END classifier__max_depth=10, classifier__max_features=log2, classifier__min_samples_leaf=5, classifier__min_samples_split=9, classifier__n_estimators=467; total time=29.0min\n",
      "[CV] END classifier__max_depth=7, classifier__max_features=log2, classifier__min_samples_leaf=2, classifier__min_samples_split=5, classifier__n_estimators=381; total time=17.1min\n",
      "[CV] END classifier__max_depth=7, classifier__max_features=log2, classifier__min_samples_leaf=2, classifier__min_samples_split=5, classifier__n_estimators=381; total time=16.6min\n",
      "[CV] END classifier__max_depth=7, classifier__max_features=log2, classifier__min_samples_leaf=2, classifier__min_samples_split=5, classifier__n_estimators=381; total time=15.3min\n",
      "[CV] END classifier__max_depth=7, classifier__max_features=log2, classifier__min_samples_leaf=2, classifier__min_samples_split=5, classifier__n_estimators=381; total time=13.8min\n",
      "[CV] END classifier__max_depth=7, classifier__max_features=log2, classifier__min_samples_leaf=2, classifier__min_samples_split=5, classifier__n_estimators=381; total time=14.1min\n",
      "[CV] END classifier__max_depth=10, classifier__max_features=log2, classifier__min_samples_leaf=5, classifier__min_samples_split=9, classifier__n_estimators=467; total time=25.5min\n",
      "[CV] END classifier__max_depth=10, classifier__max_features=log2, classifier__min_samples_leaf=5, classifier__min_samples_split=9, classifier__n_estimators=467; total time=24.9min\n"
     ]
    },
    {
     "data": {
      "text/html": [
       "<style>#sk-container-id-1 {color: black;background-color: white;}#sk-container-id-1 pre{padding: 0;}#sk-container-id-1 div.sk-toggleable {background-color: white;}#sk-container-id-1 label.sk-toggleable__label {cursor: pointer;display: block;width: 100%;margin-bottom: 0;padding: 0.3em;box-sizing: border-box;text-align: center;}#sk-container-id-1 label.sk-toggleable__label-arrow:before {content: \"▸\";float: left;margin-right: 0.25em;color: #696969;}#sk-container-id-1 label.sk-toggleable__label-arrow:hover:before {color: black;}#sk-container-id-1 div.sk-estimator:hover label.sk-toggleable__label-arrow:before {color: black;}#sk-container-id-1 div.sk-toggleable__content {max-height: 0;max-width: 0;overflow: hidden;text-align: left;background-color: #f0f8ff;}#sk-container-id-1 div.sk-toggleable__content pre {margin: 0.2em;color: black;border-radius: 0.25em;background-color: #f0f8ff;}#sk-container-id-1 input.sk-toggleable__control:checked~div.sk-toggleable__content {max-height: 200px;max-width: 100%;overflow: auto;}#sk-container-id-1 input.sk-toggleable__control:checked~label.sk-toggleable__label-arrow:before {content: \"▾\";}#sk-container-id-1 div.sk-estimator input.sk-toggleable__control:checked~label.sk-toggleable__label {background-color: #d4ebff;}#sk-container-id-1 div.sk-label input.sk-toggleable__control:checked~label.sk-toggleable__label {background-color: #d4ebff;}#sk-container-id-1 input.sk-hidden--visually {border: 0;clip: rect(1px 1px 1px 1px);clip: rect(1px, 1px, 1px, 1px);height: 1px;margin: -1px;overflow: hidden;padding: 0;position: absolute;width: 1px;}#sk-container-id-1 div.sk-estimator {font-family: monospace;background-color: #f0f8ff;border: 1px dotted black;border-radius: 0.25em;box-sizing: border-box;margin-bottom: 0.5em;}#sk-container-id-1 div.sk-estimator:hover {background-color: #d4ebff;}#sk-container-id-1 div.sk-parallel-item::after {content: \"\";width: 100%;border-bottom: 1px solid gray;flex-grow: 1;}#sk-container-id-1 div.sk-label:hover label.sk-toggleable__label {background-color: #d4ebff;}#sk-container-id-1 div.sk-serial::before {content: \"\";position: absolute;border-left: 1px solid gray;box-sizing: border-box;top: 0;bottom: 0;left: 50%;z-index: 0;}#sk-container-id-1 div.sk-serial {display: flex;flex-direction: column;align-items: center;background-color: white;padding-right: 0.2em;padding-left: 0.2em;position: relative;}#sk-container-id-1 div.sk-item {position: relative;z-index: 1;}#sk-container-id-1 div.sk-parallel {display: flex;align-items: stretch;justify-content: center;background-color: white;position: relative;}#sk-container-id-1 div.sk-item::before, #sk-container-id-1 div.sk-parallel-item::before {content: \"\";position: absolute;border-left: 1px solid gray;box-sizing: border-box;top: 0;bottom: 0;left: 50%;z-index: -1;}#sk-container-id-1 div.sk-parallel-item {display: flex;flex-direction: column;z-index: 1;position: relative;background-color: white;}#sk-container-id-1 div.sk-parallel-item:first-child::after {align-self: flex-end;width: 50%;}#sk-container-id-1 div.sk-parallel-item:last-child::after {align-self: flex-start;width: 50%;}#sk-container-id-1 div.sk-parallel-item:only-child::after {width: 0;}#sk-container-id-1 div.sk-dashed-wrapped {border: 1px dashed gray;margin: 0 0.4em 0.5em 0.4em;box-sizing: border-box;padding-bottom: 0.4em;background-color: white;}#sk-container-id-1 div.sk-label label {font-family: monospace;font-weight: bold;display: inline-block;line-height: 1.2em;}#sk-container-id-1 div.sk-label-container {text-align: center;}#sk-container-id-1 div.sk-container {/* jupyter's `normalize.less` sets `[hidden] { display: none; }` but bootstrap.min.css set `[hidden] { display: none !important; }` so we also need the `!important` here to be able to override the default hidden behavior on the sphinx rendered scikit-learn.org. See: https://github.com/scikit-learn/scikit-learn/issues/21755 */display: inline-block !important;position: relative;}#sk-container-id-1 div.sk-text-repr-fallback {display: none;}</style><div id=\"sk-container-id-1\" class=\"sk-top-container\"><div class=\"sk-text-repr-fallback\"><pre>RandomizedSearchCV(cv=5,\n",
       "                   estimator=Pipeline(steps=[(&#x27;scaler&#x27;, StandardScaler()),\n",
       "                                             (&#x27;classifier&#x27;,\n",
       "                                              RandomForestClassifier())]),\n",
       "                   n_jobs=-1,\n",
       "                   param_distributions={&#x27;classifier__max_depth&#x27;: &lt;scipy.stats._distn_infrastructure.rv_discrete_frozen object at 0x7faa6e025cf0&gt;,\n",
       "                                        &#x27;classifier__max_features&#x27;: [&#x27;sqrt&#x27;,\n",
       "                                                                     &#x27;log2&#x27;],\n",
       "                                        &#x27;classifier__min_samples_leaf&#x27;: &lt;scipy.stats._distn_infrastructure.rv_discrete_frozen object at 0x7faa6e027f10&gt;,\n",
       "                                        &#x27;classifier__min_samples_split&#x27;: &lt;scipy.stats._distn_infrastructure.rv_discrete_frozen object at 0x7faa6e025fc0&gt;,\n",
       "                                        &#x27;classifier__n_estimators&#x27;: &lt;scipy.stats._distn_infrastructure.rv_discrete_frozen object at 0x7faa2094a650&gt;},\n",
       "                   scoring=&#x27;f1&#x27;, verbose=2)</pre><b>In a Jupyter environment, please rerun this cell to show the HTML representation or trust the notebook. <br />On GitHub, the HTML representation is unable to render, please try loading this page with nbviewer.org.</b></div><div class=\"sk-container\" hidden><div class=\"sk-item sk-dashed-wrapped\"><div class=\"sk-label-container\"><div class=\"sk-label sk-toggleable\"><input class=\"sk-toggleable__control sk-hidden--visually\" id=\"sk-estimator-id-1\" type=\"checkbox\" ><label for=\"sk-estimator-id-1\" class=\"sk-toggleable__label sk-toggleable__label-arrow\">RandomizedSearchCV</label><div class=\"sk-toggleable__content\"><pre>RandomizedSearchCV(cv=5,\n",
       "                   estimator=Pipeline(steps=[(&#x27;scaler&#x27;, StandardScaler()),\n",
       "                                             (&#x27;classifier&#x27;,\n",
       "                                              RandomForestClassifier())]),\n",
       "                   n_jobs=-1,\n",
       "                   param_distributions={&#x27;classifier__max_depth&#x27;: &lt;scipy.stats._distn_infrastructure.rv_discrete_frozen object at 0x7faa6e025cf0&gt;,\n",
       "                                        &#x27;classifier__max_features&#x27;: [&#x27;sqrt&#x27;,\n",
       "                                                                     &#x27;log2&#x27;],\n",
       "                                        &#x27;classifier__min_samples_leaf&#x27;: &lt;scipy.stats._distn_infrastructure.rv_discrete_frozen object at 0x7faa6e027f10&gt;,\n",
       "                                        &#x27;classifier__min_samples_split&#x27;: &lt;scipy.stats._distn_infrastructure.rv_discrete_frozen object at 0x7faa6e025fc0&gt;,\n",
       "                                        &#x27;classifier__n_estimators&#x27;: &lt;scipy.stats._distn_infrastructure.rv_discrete_frozen object at 0x7faa2094a650&gt;},\n",
       "                   scoring=&#x27;f1&#x27;, verbose=2)</pre></div></div></div><div class=\"sk-parallel\"><div class=\"sk-parallel-item\"><div class=\"sk-item\"><div class=\"sk-label-container\"><div class=\"sk-label sk-toggleable\"><input class=\"sk-toggleable__control sk-hidden--visually\" id=\"sk-estimator-id-2\" type=\"checkbox\" ><label for=\"sk-estimator-id-2\" class=\"sk-toggleable__label sk-toggleable__label-arrow\">estimator: Pipeline</label><div class=\"sk-toggleable__content\"><pre>Pipeline(steps=[(&#x27;scaler&#x27;, StandardScaler()),\n",
       "                (&#x27;classifier&#x27;, RandomForestClassifier())])</pre></div></div></div><div class=\"sk-serial\"><div class=\"sk-item\"><div class=\"sk-serial\"><div class=\"sk-item\"><div class=\"sk-estimator sk-toggleable\"><input class=\"sk-toggleable__control sk-hidden--visually\" id=\"sk-estimator-id-3\" type=\"checkbox\" ><label for=\"sk-estimator-id-3\" class=\"sk-toggleable__label sk-toggleable__label-arrow\">StandardScaler</label><div class=\"sk-toggleable__content\"><pre>StandardScaler()</pre></div></div></div><div class=\"sk-item\"><div class=\"sk-estimator sk-toggleable\"><input class=\"sk-toggleable__control sk-hidden--visually\" id=\"sk-estimator-id-4\" type=\"checkbox\" ><label for=\"sk-estimator-id-4\" class=\"sk-toggleable__label sk-toggleable__label-arrow\">RandomForestClassifier</label><div class=\"sk-toggleable__content\"><pre>RandomForestClassifier()</pre></div></div></div></div></div></div></div></div></div></div></div></div>"
      ],
      "text/plain": [
       "RandomizedSearchCV(cv=5,\n",
       "                   estimator=Pipeline(steps=[('scaler', StandardScaler()),\n",
       "                                             ('classifier',\n",
       "                                              RandomForestClassifier())]),\n",
       "                   n_jobs=-1,\n",
       "                   param_distributions={'classifier__max_depth': <scipy.stats._distn_infrastructure.rv_discrete_frozen object at 0x7faa6e025cf0>,\n",
       "                                        'classifier__max_features': ['sqrt',\n",
       "                                                                     'log2'],\n",
       "                                        'classifier__min_samples_leaf': <scipy.stats._distn_infrastructure.rv_discrete_frozen object at 0x7faa6e027f10>,\n",
       "                                        'classifier__min_samples_split': <scipy.stats._distn_infrastructure.rv_discrete_frozen object at 0x7faa6e025fc0>,\n",
       "                                        'classifier__n_estimators': <scipy.stats._distn_infrastructure.rv_discrete_frozen object at 0x7faa2094a650>},\n",
       "                   scoring='f1', verbose=2)"
      ]
     },
     "execution_count": 14,
     "metadata": {},
     "output_type": "execute_result"
    }
   ],
   "source": [
    "# SVM pipeline\n",
    "# only need to excute it once if it takes too long\n",
    "pipe = Pipeline([\n",
    "    ('scaler', StandardScaler()),\n",
    "    ('classifier', RandomForestClassifier())\n",
    "])\n",
    "\n",
    "# define the hyperparameter search space\n",
    "# define the hyperparameter search space\n",
    "param_dist = {\n",
    "    'classifier__n_estimators': randint(100, 500),\n",
    "    'classifier__max_depth': randint(3, 25),\n",
    "    'classifier__min_samples_split': randint(2, 10),\n",
    "    'classifier__min_samples_leaf': randint(1, 6),\n",
    "    'classifier__max_features': ['sqrt', 'log2'],\n",
    "}\n",
    "# define the search parameters\n",
    "n_iter_search = 10  # number of parameter combinations to try\n",
    "cv = 5  # number of cross-validation folds\n",
    "\n",
    "# randomsearch\n",
    "clf = RandomizedSearchCV(pipe, param_dist, n_iter=n_iter_search, cv=cv, scoring='f1', n_jobs=-1, verbose=2)\n",
    "clf.fit(X, Y)"
   ]
  },
  {
   "cell_type": "code",
   "execution_count": 15,
   "metadata": {},
   "outputs": [
    {
     "name": "stdout",
     "output_type": "stream",
     "text": [
      "{'mean_fit_time': array([1197.62075419,  906.49400411, 1907.9041676 , 1051.087817  ,\n",
      "       1093.52276592,  859.36138501, 1014.76596427, 1503.2798739 ,\n",
      "       1632.51652608,  917.61842408]), 'std_fit_time': array([  9.72758924,  16.46910725,  16.0868925 ,   9.81646082,\n",
      "         4.51032134,   7.66838764,   8.47897555,   6.44535592,\n",
      "       103.07769461,  77.29163991]), 'mean_score_time': array([ 7.42405853,  4.92972722, 11.6518033 ,  5.50867105,  6.87579184,\n",
      "        4.99461789,  5.46688113,  9.35767627,  7.51676807,  4.38459229]), 'std_score_time': array([0.18857595, 0.34205228, 1.02511862, 0.17657909, 0.31682041,\n",
      "       0.18103017, 0.14701912, 0.24615959, 1.73494685, 0.67786273]), 'param_classifier__max_depth': masked_array(data=[16, 6, 15, 11, 18, 16, 6, 17, 10, 7],\n",
      "             mask=[False, False, False, False, False, False, False, False,\n",
      "                   False, False],\n",
      "       fill_value='?',\n",
      "            dtype=object), 'param_classifier__max_features': masked_array(data=['sqrt', 'log2', 'sqrt', 'log2', 'sqrt', 'sqrt', 'log2',\n",
      "                   'sqrt', 'log2', 'log2'],\n",
      "             mask=[False, False, False, False, False, False, False, False,\n",
      "                   False, False],\n",
      "       fill_value='?',\n",
      "            dtype=object), 'param_classifier__min_samples_leaf': masked_array(data=[5, 2, 2, 3, 4, 4, 1, 1, 5, 2],\n",
      "             mask=[False, False, False, False, False, False, False, False,\n",
      "                   False, False],\n",
      "       fill_value='?',\n",
      "            dtype=object), 'param_classifier__min_samples_split': masked_array(data=[2, 7, 8, 4, 7, 7, 7, 4, 9, 5],\n",
      "             mask=[False, False, False, False, False, False, False, False,\n",
      "                   False, False],\n",
      "       fill_value='?',\n",
      "            dtype=object), 'param_classifier__n_estimators': masked_array(data=[242, 373, 393, 267, 201, 170, 413, 287, 467, 381],\n",
      "             mask=[False, False, False, False, False, False, False, False,\n",
      "                   False, False],\n",
      "       fill_value='?',\n",
      "            dtype=object), 'params': [{'classifier__max_depth': 16, 'classifier__max_features': 'sqrt', 'classifier__min_samples_leaf': 5, 'classifier__min_samples_split': 2, 'classifier__n_estimators': 242}, {'classifier__max_depth': 6, 'classifier__max_features': 'log2', 'classifier__min_samples_leaf': 2, 'classifier__min_samples_split': 7, 'classifier__n_estimators': 373}, {'classifier__max_depth': 15, 'classifier__max_features': 'sqrt', 'classifier__min_samples_leaf': 2, 'classifier__min_samples_split': 8, 'classifier__n_estimators': 393}, {'classifier__max_depth': 11, 'classifier__max_features': 'log2', 'classifier__min_samples_leaf': 3, 'classifier__min_samples_split': 4, 'classifier__n_estimators': 267}, {'classifier__max_depth': 18, 'classifier__max_features': 'sqrt', 'classifier__min_samples_leaf': 4, 'classifier__min_samples_split': 7, 'classifier__n_estimators': 201}, {'classifier__max_depth': 16, 'classifier__max_features': 'sqrt', 'classifier__min_samples_leaf': 4, 'classifier__min_samples_split': 7, 'classifier__n_estimators': 170}, {'classifier__max_depth': 6, 'classifier__max_features': 'log2', 'classifier__min_samples_leaf': 1, 'classifier__min_samples_split': 7, 'classifier__n_estimators': 413}, {'classifier__max_depth': 17, 'classifier__max_features': 'sqrt', 'classifier__min_samples_leaf': 1, 'classifier__min_samples_split': 4, 'classifier__n_estimators': 287}, {'classifier__max_depth': 10, 'classifier__max_features': 'log2', 'classifier__min_samples_leaf': 5, 'classifier__min_samples_split': 9, 'classifier__n_estimators': 467}, {'classifier__max_depth': 7, 'classifier__max_features': 'log2', 'classifier__min_samples_leaf': 2, 'classifier__min_samples_split': 5, 'classifier__n_estimators': 381}], 'split0_test_score': array([0.07196492, 0.01459425, 0.06616729, 0.04233652, 0.08456777,\n",
      "       0.07312878, 0.01393114, 0.07976959, 0.03723481, 0.02070463]), 'split1_test_score': array([0.07388083, 0.01375925, 0.06853894, 0.04467515, 0.0881803 ,\n",
      "       0.07640727, 0.01396578, 0.08170129, 0.03733476, 0.02101313]), 'split2_test_score': array([0.08856743, 0.01509877, 0.08050999, 0.05258656, 0.10603213,\n",
      "       0.09096095, 0.01464295, 0.09813796, 0.04460845, 0.02333528]), 'split3_test_score': array([0.08730096, 0.01425666, 0.08084094, 0.05063806, 0.10272349,\n",
      "       0.08879876, 0.01467013, 0.09618917, 0.04473641, 0.02110884]), 'split4_test_score': array([0.08631591, 0.01807607, 0.08022695, 0.05419999, 0.10338204,\n",
      "       0.08792852, 0.01811715, 0.09691338, 0.04713282, 0.02522583]), 'mean_test_score': array([0.08160601, 0.015157  , 0.07525682, 0.04888726, 0.09697714,\n",
      "       0.08344485, 0.01506543, 0.09054228, 0.04220945, 0.02227754]), 'std_test_score': array([0.00715131, 0.00152351, 0.00649969, 0.00459629, 0.00880242,\n",
      "       0.00722784, 0.00155844, 0.00805465, 0.00412044, 0.00174642]), 'rank_test_score': array([ 4,  9,  5,  6,  1,  3, 10,  2,  7,  8], dtype=int32)}\n",
      "--------------------\n",
      "make_scorer(f1_score, average=binary)\n",
      "--------------------\n",
      "0.09697714426436752\n",
      "--------------------\n",
      "{'classifier__max_depth': 18, 'classifier__max_features': 'sqrt', 'classifier__min_samples_leaf': 4, 'classifier__min_samples_split': 7, 'classifier__n_estimators': 201}\n"
     ]
    }
   ],
   "source": [
    "print(clf.cv_results_)\n",
    "print('--------------------')\n",
    "print(clf.scorer_)\n",
    "print('--------------------')\n",
    "print(clf.best_score_)\n",
    "print('--------------------')\n",
    "print(clf.best_params_)"
   ]
  },
  {
   "cell_type": "code",
   "execution_count": 16,
   "metadata": {},
   "outputs": [
    {
     "data": {
      "text/plain": [
       "['rf_model.joblib']"
      ]
     },
     "execution_count": 16,
     "metadata": {},
     "output_type": "execute_result"
    }
   ],
   "source": [
    "# retrain the pipeline with the best parameters on the entire dataset\n",
    "best_pipe = pipe.set_params(**clf.best_params_)\n",
    "# fit it to the entire data.\n",
    "best_pipe.fit(X, Y)\n",
    "\n",
    "# save the resulting model to disk\n",
    "joblib.dump(best_pipe, 'rf_model.joblib')"
   ]
  },
  {
   "attachments": {},
   "cell_type": "markdown",
   "metadata": {},
   "source": [
    "# Feature importance based on mean decrease in impurity"
   ]
  },
  {
   "cell_type": "code",
   "execution_count": 28,
   "metadata": {},
   "outputs": [
    {
     "data": {
      "text/plain": [
       "array([0.06988674, 0.05887111, 0.04978569, 0.04145766, 0.06449304,\n",
       "       0.06013531, 0.05136802, 0.05403035, 0.06431609, 0.05662263,\n",
       "       0.07157791, 0.06609526, 0.06074369, 0.05264311, 0.08616407,\n",
       "       0.09180932])"
      ]
     },
     "execution_count": 28,
     "metadata": {},
     "output_type": "execute_result"
    }
   ],
   "source": [
    "importances"
   ]
  },
  {
   "cell_type": "code",
   "execution_count": 30,
   "metadata": {},
   "outputs": [],
   "source": [
    "importances = best_pipe[1][1].feature_importances_\n",
    "std = np.std([tree.feature_importances_ for tree in best_pipe[1].estimators_], axis=0)"
   ]
  },
  {
   "cell_type": "code",
   "execution_count": 31,
   "metadata": {},
   "outputs": [
    {
     "data": {
      "image/png": "[encoded data removed]",
      "text/plain": [
       "<Figure size 640x480 with 1 Axes>"
      ]
     },
     "metadata": {},
     "output_type": "display_data"
    }
   ],
   "source": [
    "forest_importances = pd.Series(importances, index=X.columns)\n",
    "\n",
    "fig, ax = plt.subplots()\n",
    "forest_importances.plot.bar(yerr=std, ax=ax)\n",
    "ax.set_title(\"Feature importances using MDI\")\n",
    "ax.set_ylabel(\"Mean decrease in impurity\")\n",
    "fig.tight_layout()\n"
   ]
  },
  {
   "attachments": {},
   "cell_type": "markdown",
   "metadata": {},
   "source": [
    "# load model"
   ]
  },
  {
   "cell_type": "code",
   "execution_count": null,
   "metadata": {},
   "outputs": [],
   "source": [
    "clf = joblib.load('rf_model.joblib')\n",
    "# retrain the model with updated data"
   ]
  },
  {
   "attachments": {},
   "cell_type": "markdown",
   "metadata": {},
   "source": [
    "# select top ten stocks"
   ]
  },
  {
   "cell_type": "code",
   "execution_count": null,
   "metadata": {},
   "outputs": [],
   "source": [
    "probs = []\n",
    "for t in tickers:\n",
    "    tmp_X = last_X[t].reset_index(drop=True).to_numpy().reshape(1, -1)\n",
    "    last_X_df = pd.DataFrame(tmp_X, columns=last_X[t].index)\n",
    "    probs.append(clf.predict_proba(last_X_df)[:,1][0]) #  how close it is to 1\n",
    "\n",
    "# sort probabilities in descending order\n",
    "sorted_probs = np.sort(probs)[::-1]\n",
    "\n",
    "# set threshold for top ten closest to 1\n",
    "threshold = sorted_probs[9]\n",
    "\n",
    "# set top ten closest to 1 to 1, and the rest to 0\n",
    "tmp_index = np.zeros(len(probs))\n",
    "tmp_index[probs >= threshold] = 1\n",
    "tmp_index = tmp_index.astype(int)\n"
   ]
  },
  {
   "cell_type": "code",
   "execution_count": null,
   "metadata": {},
   "outputs": [
    {
     "data": {
      "text/plain": [
       "['LNT', 'AWK', 'CHTR', 'FRC', 'MRNA', 'OGN', 'SRE', 'UNH', 'UHS', 'WBA']"
      ]
     },
     "execution_count": 15,
     "metadata": {},
     "output_type": "execute_result"
    }
   ],
   "source": [
    "portfolio_list = [tickers[i] for i in range(len(tmp_index)) if tmp_index[i] == 1]\n",
    "portfolio_list"
   ]
  },
  {
   "cell_type": "code",
   "execution_count": null,
   "metadata": {},
   "outputs": [],
   "source": [
    "with open('portfolio_list.pickle', 'wb') as f:\n",
    "    pickle.dump(portfolio_list, f)"
   ]
  },
  {
   "attachments": {},
   "cell_type": "markdown",
   "metadata": {},
   "source": [
    "# experiment"
   ]
  },
  {
   "cell_type": "code",
   "execution_count": null,
   "metadata": {},
   "outputs": [],
   "source": [
    "# import yfinance as yf\n",
    "\n",
    "# # Get stock information for Apple\n",
    "# apple = yf.Ticker(\"AAPL\")\n",
    "\n",
    "# ## Get the latest financial statement data\n",
    "# financials = apple.financials \n",
    "# # Get the net income\n",
    "# net_income = financials.loc['Net Income']\n",
    "\n",
    "# # Get the latest balance sheet data\n",
    "# balance_sheet = apple.balance_sheet\n",
    "# # Get the total assets\n",
    "# total_assets = balance_sheet.loc['Total Assets']\n",
    "# total_equity = balance_sheet.loc['Total Equity Gross Minority Interest']\n",
    "# #-------------------------------\n",
    "# roa = net_income / total_assets\n",
    "# roe = net_income / total_equity\n"
   ]
  },
  {
   "cell_type": "code",
   "execution_count": null,
   "metadata": {},
   "outputs": [],
   "source": [
    "app.disconnect()"
   ]
  },
  {
   "cell_type": "code",
   "execution_count": null,
   "metadata": {},
   "outputs": [],
   "source": []
  }
 ],
 "metadata": {
  "kernelspec": {
   "display_name": "Python 3.10.8 ('tensorplustorch')",
   "language": "python",
   "name": "python3"
  },
  "language_info": {
   "codemirror_mode": {
    "name": "ipython",
    "version": 3
   },
   "file_extension": ".py",
   "mimetype": "text/x-python",
   "name": "python",
   "nbconvert_exporter": "python",
   "pygments_lexer": "ipython3",
   "version": "3.10.8"
  },
  "orig_nbformat": 4,
  "vscode": {
   "interpreter": {
    "hash": "efc08374433b8d8e4a9fd8a0a66f7295c7ce37eceb639810a945045512ff181b"
   }
  }
 },
 "nbformat": 4,
 "nbformat_minor": 2
}
